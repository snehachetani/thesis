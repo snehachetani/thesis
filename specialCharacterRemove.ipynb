{
 "cells": [
  {
   "cell_type": "code",
   "execution_count": null,
   "metadata": {},
   "outputs": [],
   "source": [
    "# See what types of special characters the corpus have\n",
    "\n",
    "def get_special_characters(words):\n",
    "    special_chars = set()  # Using a set to avoid duplicates\n",
    "\n",
    "    for word in words:\n",
    "        # Find all non-alphanumeric characters in the word using regular expressions\n",
    "        special_chars_in_word = re.findall(r'[^a-zA-Z0-9\\s]', word)\n",
    "\n",
    "        # Add the found special characters to the set\n",
    "        special_chars.update(special_chars_in_word)\n",
    "\n",
    "    return list(special_chars)\n",
    "\n",
    "cleaned_text_list = get_special_characters(words)\n",
    "print(cleaned_text_list)"
   ]
  },
  {
   "cell_type": "code",
   "execution_count": null,
   "metadata": {},
   "outputs": [],
   "source": [
    "def remove_special_characters(words):\n",
    "    cleaned_text_list = []\n",
    "\n",
    "    for word in words:\n",
    "        if word in words_to_ignore:\n",
    "            cleaned_text_list.append((word, '-99'))\n",
    "        else:\n",
    "            # Remove special characters within words except ' and - and \\x9c\n",
    "            cleaned_text = re.sub(r\"(?<![\\w\\x9c'-])[^\\w\\s\\x9c'-]+|[^\\w\\s\\x9c'-](?![\\w\\x9c'-])|^'|'$\", '', word)\n",
    "            removed_chars = re.findall(r\"(?<![\\w\\x9c'-])[^\\w\\s\\x9c'-]+|[^\\w\\s\\x9c'-](?![\\w\\x9c'-])|^'|'$\", word)\n",
    "            cleaned_text_list.append((cleaned_text, removed_chars))\n",
    "\n",
    "    return cleaned_text_list\n"
   ]
  }
 ],
 "metadata": {
  "language_info": {
   "name": "python"
  }
 },
 "nbformat": 4,
 "nbformat_minor": 2
}
