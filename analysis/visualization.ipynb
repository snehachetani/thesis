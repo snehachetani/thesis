{
 "cells": [
  {
   "cell_type": "code",
   "execution_count": null,
   "id": "84f8a7a9",
   "metadata": {},
   "outputs": [],
   "source": [
    "import pandas as pd\n",
    "import seaborn as sns\n",
    "import matplotlib.pyplot as plt\n",
    "import glob\n",
    "import os\n"
   ]
  },
  {
   "cell_type": "markdown",
   "id": "303cae67",
   "metadata": {},
   "source": [
    "# Surprisal Distribution"
   ]
  },
  {
   "cell_type": "code",
   "execution_count": null,
   "id": "0eca0cc0",
   "metadata": {},
   "outputs": [],
   "source": [
    "path = \"data/surprisal/temp_surprisal/*.csv\"\n",
    "\n",
    "dfs = []\n",
    "\n",
    "for file in glob.glob(path):\n",
    "    filename = os.path.basename(file)\n",
    "\n",
    "    # Example filename: \"01_Temp_1.0.csv\"\n",
    "    text_id, _, temp = filename.replace('.csv', '').split('_')\n",
    "    temp = float(temp)  # convert temperature to float\n",
    "\n",
    "    # Read the CSV\n",
    "    df = pd.read_csv(file)\n",
    "\n",
    "    # Add temperature and text id columns\n",
    "    df['temperature'] = temp\n",
    "    df['text_id'] = text_id\n",
    "\n",
    "    dfs.append(df)\n",
    "\n",
    "full_df = pd.concat(dfs, ignore_index=True)\n",
    "\n",
    "full_df = full_df[full_df['Token']!='<|endoftext|>']\n",
    "\n",
    "\n",
    "g = sns.FacetGrid(full_df, col=\"temperature\", col_wrap=6, height=2.8, aspect=1.5, sharex=False, sharey=False)\n",
    "\n",
    "g.map_dataframe(sns.histplot, x=\"Surprisal\", stat=\"density\", bins=30, color=\"blue\", alpha=0.5, edgecolor=None)\n",
    "\n",
    "g.map_dataframe(sns.kdeplot, x=\"Surprisal\", color=\"blue\", lw=1)\n",
    "\n",
    "g.set_axis_labels(\"\", \"\")  \n",
    "g.fig.text(0.55, 0.04, 'Surprisal', ha='center', fontsize=20)\n",
    "g.fig.text(0.04, 0.5, 'Density', va='center', rotation='vertical', fontsize=20)\n",
    "for ax in g.axes.flat:\n",
    "    ax.tick_params(axis='x', labelsize=16)\n",
    "    ax.tick_params(axis='y', labelsize=16)\n",
    "g.set_titles(\"Temp = {col_name}\")\n",
    "for ax in g.axes.flat:\n",
    "    ax.title.set_fontsize(16)\n",
    "g.fig.subplots_adjust(left=0.08, top =0.92)\n",
    "g.fig.suptitle('Surprisal Distributions', fontsize=20)\n",
    "plt.savefig(\"surprisal_dist_dundee.pdf\")\n",
    "plt.show()"
   ]
  }
 ],
 "metadata": {
  "language_info": {
   "name": "python"
  }
 },
 "nbformat": 4,
 "nbformat_minor": 5
}
