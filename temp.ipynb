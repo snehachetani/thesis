{
 "cells": [
  {
   "cell_type": "code",
   "execution_count": 28,
   "metadata": {},
   "outputs": [],
   "source": [
    "import os\n",
    "import pandas as pd\n",
    "from transformers import GPT2Tokenizer, GPT2Model"
   ]
  },
  {
   "cell_type": "code",
   "execution_count": 43,
   "metadata": {},
   "outputs": [
    {
     "name": "stdout",
     "output_type": "stream",
     "text": [
      "2567\n",
      "3182\n"
     ]
    }
   ],
   "source": [
    "file_path = \"dundee_corpus/english/items/tx05wrdp.dat\"\n",
    "\n",
    "tx01 = pd.read_csv(file_path, sep='\\s+',\n",
    "                             names=['WORD', 'Text File','SCREEN', 'LINE','POS','XX','YY', 'OLEN', 'WLEN', 'PUNC', 'O_PUNC', 'C_PUNC', 'WNUM', 'TXFR'], \n",
    "                             encoding='windows-1252', keep_default_na=False)\n",
    "\n",
    "print(len(tx01))\n",
    "#print(tx01['WORD'][:5])\n",
    "result_path = \"C:\\\\Users\\\\ASUS\\Downloads\\\\results (5).tsv\"\n",
    "\n",
    "rs_01 = pd.read_csv(result_path, sep=\"\\t\",  keep_default_na=False)\n",
    "\n",
    "print(len(rs_01))\n",
    "#print(rs_01.head())"
   ]
  },
  {
   "cell_type": "code",
   "execution_count": 48,
   "metadata": {},
   "outputs": [],
   "source": [
    "tx01_w = [word if i == 0 else \" \" + word for i, word in enumerate(tx01['WORD'])]\n",
    "#print(tx01_w)"
   ]
  },
  {
   "cell_type": "code",
   "execution_count": 49,
   "metadata": {},
   "outputs": [
    {
     "name": "stdout",
     "output_type": "stream",
     "text": [
      "0        B\n",
      "1      arr\n",
      "2    ister\n",
      "3        ,\n",
      "4     Ġwar\n",
      "Name: token, dtype: object ['B', 'arr', 'ister', ',', 'Ġwar']\n"
     ]
    }
   ],
   "source": [
    "tokenizer = GPT2Tokenizer.from_pretrained('gpt2')\n",
    "\n",
    "subword_list = []\n",
    "\n",
    "for word in tx01_w:\n",
    "    tokens = tokenizer.tokenize(word)\n",
    "    subword_list.extend(tokens)\n",
    "#print(subword_list)\n",
    "\n",
    "print(rs_01['token'][:5], subword_list[:5])"
   ]
  },
  {
   "cell_type": "code",
   "execution_count": null,
   "metadata": {},
   "outputs": [],
   "source": []
  }
 ],
 "metadata": {
  "kernelspec": {
   "display_name": "Python 3",
   "language": "python",
   "name": "python3"
  },
  "language_info": {
   "codemirror_mode": {
    "name": "ipython",
    "version": 3
   },
   "file_extension": ".py",
   "mimetype": "text/x-python",
   "name": "python",
   "nbconvert_exporter": "python",
   "pygments_lexer": "ipython3",
   "version": "3.10.6"
  }
 },
 "nbformat": 4,
 "nbformat_minor": 2
}
